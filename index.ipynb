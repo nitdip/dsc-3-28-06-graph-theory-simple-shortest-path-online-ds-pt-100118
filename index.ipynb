{
 "cells": [
  {
   "cell_type": "markdown",
   "metadata": {},
   "source": [
    "# Graph Theory: Simple and Shortest Paths\n",
    "\n",
    "## Introduction\n",
    "In graph theory, a path in a graph is a finite or infinite sequence of edges which connect a sequence of vertices which, by most definitions, are all distinct from one another. In a directed graph, a directed path (sometimes called dipath[1]) is again a sequence of edges (or arcs) which connect a sequence of vertices, but with the added restriction that the edges all be directed in the same direction.\n",
    "\n",
    "## Objectives\n",
    "You will be able to:\n",
    "- Understand and explain simple paths and shortest paths\n",
    "- Calculate simple and shortest paths for undirected, directed and weighted graphs\n",
    "- Explain Dijkstra Algorithm and calculate the shortest path using this algorithm in networkx"
   ]
  },
  {
   "cell_type": "markdown",
   "metadata": {},
   "source": [
    "## Simple and Shortest Paths\n",
    "![](path.gif)\n",
    "\n",
    "\n",
    "> __A simple path is a path with no repeated nodes.__\n",
    "\n",
    "[See NetworkX documentation for simple paths](https://networkx.github.io/documentation/latest/reference/algorithms/simple_paths.html?highlight=simple%20path).\n",
    "\n",
    "> __The shortest path between two nodes is a path with the minimum number of edges. The distance between any two nodes $u$ and $v$ of $G$, denoted $d_{G}(u,v)$, is the length of the shortest path between them.__ \n",
    "\n",
    "[See NetworkX documentation for shortest paths](https://networkx.github.io/documentation/latest/reference/algorithms/shortest_paths.html?highlight=shortest%20path)\n",
    "\n",
    "NetworkX has high level functions for simple paths and shortest paths that accept directed, undirected and multigraphs and do the right thing. For instance, for directed graphs the paths have to follow the direction of the edges. We shall see how to calculate shortest paths for all different graphs in this lesson. \n",
    "\n",
    "## Undirected Graphs\n",
    "\n",
    "NetworkX represents the paths as list of nodes, from that it's easy to get the edges that form the path. Let's create a simple undirected network in networkx. "
   ]
  },
  {
   "cell_type": "code",
   "execution_count": 2,
   "metadata": {},
   "outputs": [],
   "source": [
    "import networkx as nx"
   ]
  },
  {
   "cell_type": "code",
   "execution_count": 27,
   "metadata": {},
   "outputs": [
    {
     "name": "stdout",
     "output_type": "stream",
     "text": [
      "{0: 3, 1: 2, 2: 2, 3: 2, 4: 2, 5: 2, 6: 2, 7: 1}\n"
     ]
    },
    {
     "data": {
      "image/png": "[encoded data removed]",
      "text/plain": [
       "<Figure size 432x288 with 1 Axes>"
      ]
     },
     "metadata": {},
     "output_type": "display_data"
    }
   ],
   "source": [
    "# Create a cycle graph and add an extra node\n",
    "G = nx.cycle_graph(7) #networkx.cycle_graph() returns a graph that is all connected\n",
    "G.add_edge(0, 7) # adds an edge(connection) between node 0 and 7\n",
    "nx.draw(G, pos=nx.fruchterman_reingold_layout(G),  with_labels=True) # draws(visualizes) the graph with the nodes having their labels shown\n",
    "print(dict(G.degree()))"
   ]
  },
  {
   "cell_type": "markdown",
   "metadata": {},
   "source": [
    "We can check if a path exists between different nodes of a graph."
   ]
  },
  {
   "cell_type": "code",
   "execution_count": 29,
   "metadata": {},
   "outputs": [
    {
     "data": {
      "text/plain": [
       "True"
      ]
     },
     "execution_count": 29,
     "metadata": {},
     "output_type": "execute_result"
    }
   ],
   "source": [
    "nx.has_path(G, 0, 7) # specify the graph object and the two nodes you're checking."
   ]
  },
  {
   "cell_type": "markdown",
   "metadata": {},
   "source": [
    "Using `all_simple_paths()`, we can get . list of all possible simple paths from one node to another. "
   ]
  },
  {
   "cell_type": "code",
   "execution_count": 35,
   "metadata": {},
   "outputs": [
    {
     "data": {
      "text/plain": [
       "[[7, 0, 1, 2, 3], [7, 0, 6, 5, 4, 3]]"
      ]
     },
     "execution_count": 35,
     "metadata": {},
     "output_type": "execute_result"
    }
   ],
   "source": [
    "list(nx.all_simple_paths(G, 7, 3)) # shows the path of the graph(G) and the start to end.\n",
    "# networkx.all_simple_paths() generates an object, passing it into a list function show's the list\n",
    "# there are two ways to go from 0 to 3, [0, 1, 2 3] & [0, 6, 5, 4 , 3]"
   ]
  },
  {
   "cell_type": "markdown",
   "metadata": {},
   "source": [
    "The shortest path among all simple paths can be calculated as:"
   ]
  },
  {
   "cell_type": "code",
   "execution_count": 32,
   "metadata": {},
   "outputs": [
    {
     "data": {
      "text/plain": [
       "[7, 0, 1, 2, 3]"
      ]
     },
     "execution_count": 32,
     "metadata": {},
     "output_type": "execute_result"
    }
   ],
   "source": [
    "nx.shortest_path(G, 7, 3) # shows shortest paths to get from the source to target"
   ]
  },
  {
   "cell_type": "markdown",
   "metadata": {},
   "source": [
    "We can calculate the total length of the shortest path, for undirected graphs, it is the number of hops. "
   ]
  },
  {
   "cell_type": "code",
   "execution_count": 33,
   "metadata": {},
   "outputs": [
    {
     "data": {
      "text/plain": [
       "4"
      ]
     },
     "execution_count": 33,
     "metadata": {},
     "output_type": "execute_result"
    }
   ],
   "source": [
    "nx.shortest_path_length(G, 7, 3)"
   ]
  },
  {
   "cell_type": "markdown",
   "metadata": {},
   "source": [
    "We can obtain the list of edges of a path from the list of nodes that NetworkX outputs as shown below:"
   ]
  },
  {
   "cell_type": "code",
   "execution_count": 41,
   "metadata": {},
   "outputs": [
    {
     "name": "stdout",
     "output_type": "stream",
     "text": [
      "nodes in path: [7, 0, 1, 2, 3]\n",
      "edges in path: [(7, 0), (0, 1), (1, 2), (2, 3)]\n"
     ]
    }
   ],
   "source": [
    "path = nx.shortest_path(G, 7, 3)\n",
    "edges = list(zip(path, path[1:]))\n",
    "print(f'nodes in path: {path}')\n",
    "print(f'edges in path: {edges}')"
   ]
  },
  {
   "cell_type": "code",
   "execution_count": 37,
   "metadata": {},
   "outputs": [
    {
     "name": "stdout",
     "output_type": "stream",
     "text": [
      "5\n",
      "4\n"
     ]
    }
   ],
   "source": [
    "print(len(path))\n",
    "print(len(path[1:]))"
   ]
  },
  {
   "cell_type": "markdown",
   "metadata": {},
   "source": [
    " You can also compute all shortest paths from a single source node\n"
   ]
  },
  {
   "cell_type": "code",
   "execution_count": 42,
   "metadata": {},
   "outputs": [
    {
     "data": {
      "text/plain": [
       "{0: [0],\n",
       " 1: [0, 1],\n",
       " 6: [0, 6],\n",
       " 7: [0, 7],\n",
       " 2: [0, 1, 2],\n",
       " 5: [0, 6, 5],\n",
       " 3: [0, 1, 2, 3],\n",
       " 4: [0, 6, 5, 4]}"
      ]
     },
     "execution_count": 42,
     "metadata": {},
     "output_type": "execute_result"
    }
   ],
   "source": [
    "nx.single_source_shortest_path(G, 0)\n",
    "# networkx.single_srouce_shortest_path() shows the path a source node can take to get to each other node"
   ]
  },
  {
   "cell_type": "markdown",
   "metadata": {},
   "source": [
    "Similarly, we can calculate the shortest paths between each possible pair of nodes in the network"
   ]
  },
  {
   "cell_type": "code",
   "execution_count": 43,
   "metadata": {
    "scrolled": false
   },
   "outputs": [
    {
     "data": {
      "text/plain": [
       "[(0,\n",
       "  {0: [0],\n",
       "   1: [0, 1],\n",
       "   6: [0, 6],\n",
       "   7: [0, 7],\n",
       "   2: [0, 1, 2],\n",
       "   5: [0, 6, 5],\n",
       "   3: [0, 1, 2, 3],\n",
       "   4: [0, 6, 5, 4]}),\n",
       " (1,\n",
       "  {1: [1],\n",
       "   0: [1, 0],\n",
       "   2: [1, 2],\n",
       "   6: [1, 0, 6],\n",
       "   7: [1, 0, 7],\n",
       "   3: [1, 2, 3],\n",
       "   5: [1, 0, 6, 5],\n",
       "   4: [1, 2, 3, 4]}),\n",
       " (2,\n",
       "  {2: [2],\n",
       "   1: [2, 1],\n",
       "   3: [2, 3],\n",
       "   0: [2, 1, 0],\n",
       "   4: [2, 3, 4],\n",
       "   6: [2, 1, 0, 6],\n",
       "   7: [2, 1, 0, 7],\n",
       "   5: [2, 3, 4, 5]}),\n",
       " (3,\n",
       "  {3: [3],\n",
       "   2: [3, 2],\n",
       "   4: [3, 4],\n",
       "   1: [3, 2, 1],\n",
       "   5: [3, 4, 5],\n",
       "   0: [3, 2, 1, 0],\n",
       "   6: [3, 4, 5, 6],\n",
       "   7: [3, 2, 1, 0, 7]}),\n",
       " (4,\n",
       "  {4: [4],\n",
       "   3: [4, 3],\n",
       "   5: [4, 5],\n",
       "   2: [4, 3, 2],\n",
       "   6: [4, 5, 6],\n",
       "   1: [4, 3, 2, 1],\n",
       "   0: [4, 5, 6, 0],\n",
       "   7: [4, 5, 6, 0, 7]}),\n",
       " (5,\n",
       "  {5: [5],\n",
       "   4: [5, 4],\n",
       "   6: [5, 6],\n",
       "   3: [5, 4, 3],\n",
       "   0: [5, 6, 0],\n",
       "   2: [5, 4, 3, 2],\n",
       "   1: [5, 6, 0, 1],\n",
       "   7: [5, 6, 0, 7]}),\n",
       " (6,\n",
       "  {6: [6],\n",
       "   5: [6, 5],\n",
       "   0: [6, 0],\n",
       "   4: [6, 5, 4],\n",
       "   1: [6, 0, 1],\n",
       "   7: [6, 0, 7],\n",
       "   3: [6, 5, 4, 3],\n",
       "   2: [6, 0, 1, 2]}),\n",
       " (7,\n",
       "  {7: [7],\n",
       "   0: [7, 0],\n",
       "   1: [7, 0, 1],\n",
       "   6: [7, 0, 6],\n",
       "   2: [7, 0, 1, 2],\n",
       "   5: [7, 0, 6, 5],\n",
       "   3: [7, 0, 1, 2, 3],\n",
       "   4: [7, 0, 6, 5, 4]})]"
      ]
     },
     "execution_count": 43,
     "metadata": {},
     "output_type": "execute_result"
    }
   ],
   "source": [
    "list(nx.all_pairs_shortest_path(G))\n",
    "# Does the same as networkx.single_source_shortest_path() except, it does it for each node"
   ]
  },
  {
   "cell_type": "markdown",
   "metadata": {},
   "source": [
    "## Directed Graphs\n",
    "> __When edges of a graph have a specific direction showing a 'to-from' relationship, they are called directed graphs.__\n",
    "\n",
    "Consider the example of Facebook and Twitter connections. When you add someone to your friend list on Facebook, you will also be added to their friend list. This is a two-way relationship and that connection graph will be a non-directed one. Whereas if you follow a person on Twitter, that person might not follow you back. This is a directed graph.\n",
    "\n",
    "<img src=\"dir.png\" width=500>\n",
    "\n",
    "Here is how you would create a simple Directed graph in networkx. "
   ]
  },
  {
   "cell_type": "code",
   "execution_count": 47,
   "metadata": {},
   "outputs": [
    {
     "data": {
      "image/png": "[encoded data removed]",
      "text/plain": [
       "<Figure size 432x288 with 1 Axes>"
      ]
     },
     "metadata": {},
     "output_type": "display_data"
    }
   ],
   "source": [
    "#create the classifier for Directed Graphs\n",
    "DG = nx.DiGraph() # Assign the classifier DiGraph() to a variable, so it can be easily used in the future\n",
    "DG.add_edge('a', 'b')\n",
    "DG.add_edge('a', 'c')\n",
    "DG.add_edge('b', 'c')\n",
    "nx.draw(DG, with_labels=True)"
   ]
  },
  {
   "cell_type": "markdown",
   "metadata": {},
   "source": [
    "Let's use a graph generator to create a directed graph and see how we can calculate the paths between nodes. \n"
   ]
  },
  {
   "cell_type": "code",
   "execution_count": 48,
   "metadata": {},
   "outputs": [
    {
     "data": {
      "image/png": "[encoded data removed]",
      "text/plain": [
       "<Figure size 432x288 with 1 Axes>"
      ]
     },
     "metadata": {},
     "output_type": "display_data"
    }
   ],
   "source": [
    "D = nx.cycle_graph(5, create_using=nx.DiGraph())\n",
    "D.add_edge(0, 5)\n",
    "nx.draw(D, pos=nx.fruchterman_reingold_layout(D), with_labels=True)"
   ]
  },
  {
   "cell_type": "markdown",
   "metadata": {},
   "source": [
    "For directed graphs, we usually calculate indegree and outdegree to process a node, here is how you would calculate it."
   ]
  },
  {
   "cell_type": "code",
   "execution_count": 52,
   "metadata": {},
   "outputs": [
    {
     "name": "stdout",
     "output_type": "stream",
     "text": [
      "{0: 1, 1: 1, 2: 1, 3: 1, 4: 1, 5: 1}\n",
      "{0: 2, 1: 1, 2: 1, 3: 1, 4: 1, 5: 0}\n"
     ]
    }
   ],
   "source": [
    "print(dict(D.in_degree())) # shows the edges going into a node\n",
    "print(dict(D.out_degree())) # shows the edges going our from a node"
   ]
  },
  {
   "cell_type": "markdown",
   "metadata": {},
   "source": [
    "Similarly, we can calculate the successors and predecesors of nodes in a directed graph. This is again basedon the direction of the edge. "
   ]
  },
  {
   "cell_type": "code",
   "execution_count": 56,
   "metadata": {},
   "outputs": [
    {
     "data": {
      "text/plain": [
       "([1, 5], [4])"
      ]
     },
     "execution_count": 56,
     "metadata": {},
     "output_type": "execute_result"
    }
   ],
   "source": [
    "list(D.successors(0)) # shows nodes that the source points to\n",
    "print(list(D.predecessors(0))) # shows the nodes that point to the source"
   ]
  },
  {
   "cell_type": "markdown",
   "metadata": {},
   "source": [
    "### Calculating paths in a directed graph \n",
    "\n",
    "Let's see a few methods , as above , to see how path calculation changes from directed to undirected graphs. \n",
    "\n",
    "\n",
    "__Remember the paths in a directed graph always follow the direction of edges i.e. arrows. We can not go in the opposite direction while calculating a path.__\n"
   ]
  },
  {
   "cell_type": "code",
   "execution_count": 95,
   "metadata": {},
   "outputs": [
    {
     "name": "stdout",
     "output_type": "stream",
     "text": [
      "Path exists between nodes: True\n",
      "All simple paths: [[0, 1, 2, 3]]\n",
      "Shortest path: [0, 1, 2, 3]\n",
      "length of shortest path: 3\n"
     ]
    }
   ],
   "source": [
    "A = 0\n",
    "B = 3\n",
    "print('Path exists between nodes:', nx.has_path(D, A, B))\n",
    "print ('All simple paths:' ,list(nx.all_simple_paths(D, A, B))) # only one this time - directed\n",
    "print ('Shortest path:', nx.shortest_path(D, A, B))\n",
    "print ('length of shortest path:', nx.shortest_path_length(D, A, B))"
   ]
  },
  {
   "cell_type": "markdown",
   "metadata": {},
   "source": [
    "We can find shortest path from a given node to all other nodes as shown below:"
   ]
  },
  {
   "cell_type": "code",
   "execution_count": 67,
   "metadata": {},
   "outputs": [
    {
     "data": {
      "text/plain": [
       "{0: [0],\n",
       " 1: [0, 1],\n",
       " 2: [0, 1, 2],\n",
       " 3: [0, 1, 2, 3],\n",
       " 4: [0, 1, 2, 3, 4],\n",
       " 5: [0, 5]}"
      ]
     },
     "execution_count": 67,
     "metadata": {},
     "output_type": "execute_result"
    }
   ],
   "source": [
    "nx.single_source_shortest_path(D, 0)"
   ]
  },
  {
   "cell_type": "markdown",
   "metadata": {},
   "source": [
    "Or, the shortest paths between all possible pairs, considering the direction of edges. "
   ]
  },
  {
   "cell_type": "code",
   "execution_count": 69,
   "metadata": {},
   "outputs": [
    {
     "data": {
      "text/plain": [
       "[(0,\n",
       "  {0: [0],\n",
       "   1: [0, 1],\n",
       "   2: [0, 1, 2],\n",
       "   3: [0, 1, 2, 3],\n",
       "   4: [0, 1, 2, 3, 4],\n",
       "   5: [0, 5]}),\n",
       " (1,\n",
       "  {0: [1, 2, 3, 4, 0],\n",
       "   1: [1],\n",
       "   2: [1, 2],\n",
       "   3: [1, 2, 3],\n",
       "   4: [1, 2, 3, 4],\n",
       "   5: [1, 2, 3, 4, 0, 5]}),\n",
       " (2,\n",
       "  {0: [2, 3, 4, 0],\n",
       "   1: [2, 3, 4, 0, 1],\n",
       "   2: [2],\n",
       "   3: [2, 3],\n",
       "   4: [2, 3, 4],\n",
       "   5: [2, 3, 4, 0, 5]}),\n",
       " (3,\n",
       "  {0: [3, 4, 0],\n",
       "   1: [3, 4, 0, 1],\n",
       "   2: [3, 4, 0, 1, 2],\n",
       "   3: [3],\n",
       "   4: [3, 4],\n",
       "   5: [3, 4, 0, 5]}),\n",
       " (4,\n",
       "  {0: [4, 0],\n",
       "   1: [4, 0, 1],\n",
       "   2: [4, 0, 1, 2],\n",
       "   3: [4, 0, 1, 2, 3],\n",
       "   4: [4],\n",
       "   5: [4, 0, 5]}),\n",
       " (5, {5: [5]})]"
      ]
     },
     "execution_count": 69,
     "metadata": {},
     "output_type": "execute_result"
    }
   ],
   "source": [
    "list(nx.all_pairs_shortest_path(D))"
   ]
  },
  {
   "cell_type": "markdown",
   "metadata": {},
   "source": [
    "## Weighted Graphs"
   ]
  },
  {
   "cell_type": "markdown",
   "metadata": {},
   "source": [
    "For weighted graphs the definition of shortest path considers edge weights. The shortest path is the path with minium total weight, and the path length is the sum of edge weights. This implies that the **shortest weighted path does not necessary has less edges than an alternative path**.\n",
    "\n",
    "For computing weighted shortest paths you have to pass a a keyword argument the name of the edge attribute used as weight. Let's create a simple graph and assign some random weights to its edges "
   ]
  },
  {
   "cell_type": "code",
   "execution_count": 97,
   "metadata": {},
   "outputs": [
    {
     "data": {
      "text/plain": [
       "{('a', 'b'): Text(0.498464,0.422644,'0.3'),\n",
       " ('a', 'c'): Text(-0.0781383,0.276696,'2.0'),\n",
       " ('b', 'c'): Text(0.423398,0.0785256,'0.5'),\n",
       " ('c', 'd'): Text(-0.498464,-0.422644,'1.0')}"
      ]
     },
     "execution_count": 97,
     "metadata": {},
     "output_type": "execute_result"
    },
    {
     "data": {
      "image/png": "[encoded data removed]",
      "text/plain": [
       "<matplotlib.figure.Figure at 0x15234e2748>"
      ]
     },
     "metadata": {},
     "output_type": "display_data"
    }
   ],
   "source": [
    "# Create a Weighted Graph \n",
    "W = nx.Graph()\n",
    "W.add_edge('a', 'b', weight=0.3)\n",
    "W.add_edge('b', 'c', weight=0.5)\n",
    "W.add_edge('a', 'c', weight=2.0)\n",
    "W.add_edge('c', 'd', weight=1.0)\n",
    "pos = nx.fruchterman_reingold_layout(W)\n",
    "nx.draw(W, pos=pos, with_labels=True)\n",
    "nx.draw_networkx_edge_labels(W, pos, edge_labels=nx.get_edge_attributes(W, 'weight'))"
   ]
  },
  {
   "cell_type": "markdown",
   "metadata": {},
   "source": [
    "Most of the methods shown above can be applied to all types of graphs. For weighted graphs, the associated weight plays an important role in defining the shortest path. Let's see it through some methods shown below:"
   ]
  },
  {
   "cell_type": "code",
   "execution_count": 100,
   "metadata": {},
   "outputs": [
    {
     "name": "stdout",
     "output_type": "stream",
     "text": [
      "Shortest path between nodes a and d with respect to hops: ['a', 'c', 'd']\n",
      "Length of the shortest path: 2\n",
      "Shortest path between nodes a and d with respect to edge weight: ['a', 'b', 'c', 'd']\n",
      "Length of the shortest path: 1.8\n"
     ]
    }
   ],
   "source": [
    "print ('Shortest path between nodes a and d with respect to hops:',nx.shortest_path(W, 'a', 'd'))\n",
    "print ('Length of the shortest path:',nx.shortest_path_length(W, 'a', 'd'))\n",
    "print ('Shortest path between nodes a and d with respect to edge weight:',nx.shortest_path(W, 'a', 'd',weight='weight'))\n",
    "print ('Length of the shortest path:',nx.shortest_path_length(W, 'a', 'd',weight='weight'))"
   ]
  },
  {
   "cell_type": "markdown",
   "metadata": {},
   "source": [
    "So we see although a path may have a less hops from source to destination, the weights associated with edges may help us decide a better path to allow , say , higher influence. "
   ]
  },
  {
   "cell_type": "markdown",
   "metadata": {},
   "source": [
    "## Additional Resources\n",
    "- https://www.cse.ust.hk/~dekai/271/notes/L10/L10.pdf"
   ]
  },
  {
   "cell_type": "markdown",
   "metadata": {},
   "source": [
    "## Summary \n",
    "\n",
    "In lesson we talked about calculating the shortest path between a given set of nodes for different types of graph structures that we have seen thus far. Shortest path calculation comes in handy during a number of analyses activities while processing graph. Paths based on weights , hops or directions can provide a deeper insight into identifying the strength of relationship and amount of influence between nodes in a network. In the following lab, we shall see a simple dataset and calculate as well as visualize paths with networkx. "
   ]
  }
 ],
 "metadata": {
  "kernelspec": {
   "display_name": "Python 3",
   "language": "python",
   "name": "python3"
  },
  "language_info": {
   "codemirror_mode": {
    "name": "ipython",
    "version": 3
   },
   "file_extension": ".py",
   "mimetype": "text/x-python",
   "name": "python",
   "nbconvert_exporter": "python",
   "pygments_lexer": "ipython3",
   "version": "3.7.0"
  }
 },
 "nbformat": 4,
 "nbformat_minor": 2
}
